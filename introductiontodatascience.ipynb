{
 "cells": [
  {
   "cell_type": "markdown",
   "id": "abae0f1e-bc41-4d7c-b9f3-a5af8e2d2a4b",
   "metadata": {},
   "source": [
    "# Introduction to Applied Data Science in Python-Revision\n",
    "\n",
    "\n",
    "### By Charles Mawusi "
   ]
  },
  {
   "cell_type": "code",
   "execution_count": 12,
   "id": "3e4c9657-e2af-4599-af4e-baf0281b7c0a",
   "metadata": {},
   "outputs": [
    {
     "name": "stdout",
     "output_type": "stream",
     "text": [
      "The sum of all numbers is: 13\n"
     ]
    }
   ],
   "source": [
    "def add_number (x, y, z ):\n",
    "    return x+y+z \n",
    "print(\"The sum of all numbers is:\",  add_number(3, 4, 6 ))"
   ]
  },
  {
   "cell_type": "code",
   "execution_count": 19,
   "id": "b01691da-ffc2-4f70-904b-25cde2ec4552",
   "metadata": {},
   "outputs": [
    {
     "name": "stdout",
     "output_type": "stream",
     "text": [
      "34\n"
     ]
    }
   ],
   "source": [
    "def add(x, y, z=None):\n",
    "    if (x >=20):\n",
    "        return x+y\n",
    "    else :\n",
    "        return x+z\n",
    "\n",
    "print(add(30, 4, 5) )"
   ]
  },
  {
   "cell_type": "code",
   "execution_count": 41,
   "id": "bf8eb365-d0b2-4ec8-a5d6-d5b2b0575a4b",
   "metadata": {},
   "outputs": [
    {
     "name": "stdout",
     "output_type": "stream",
     "text": [
      " Charles Famous Kwadjo\n",
      "Charles\n"
     ]
    }
   ],
   "source": [
    "\n",
    "first_name =\"Charles Famous Kwadjo\".split(' ')[0]\n",
    "print(name)\n",
    "print(first_name)"
   ]
  },
  {
   "cell_type": "code",
   "execution_count": 52,
   "id": "439c4115-a2e8-4990-88fb-98266aeafa3e",
   "metadata": {},
   "outputs": [
    {
     "name": "stdout",
     "output_type": "stream",
     "text": [
      "color ==> blue\n",
      "fruit ==> apple\n",
      "pet ==> dog\n"
     ]
    }
   ],
   "source": [
    "likes = {\"color\": \"blue\", \"fruit\": \"apple\", \"pet\": \"dog\"}\n",
    "\n",
    "for key, value in likes.items():\n",
    "    print (key, \"==>\", value)"
   ]
  },
  {
   "cell_type": "code",
   "execution_count": 60,
   "id": "1a0092a9-aadc-4a9b-9eed-6bb2c37ae5a7",
   "metadata": {},
   "outputs": [
    {
     "name": "stdout",
     "output_type": "stream",
     "text": [
      "14100.0\n"
     ]
    }
   ],
   "source": [
    "incomes = {\"apple\": 5600.00, \"orange\": 3500.00, \"banana\": 5000.00}\n",
    "total_income = 0.00\n",
    "\n",
    "for i in incomes.values():\n",
    "    total_income+=i \n",
    "\n",
    "print(total_income)"
   ]
  },
  {
   "cell_type": "code",
   "execution_count": 89,
   "id": "1379f289-29af-427f-97a1-43a6c1fdb643",
   "metadata": {},
   "outputs": [
    {
     "data": {
      "text/plain": [
       "2024"
      ]
     },
     "execution_count": 89,
     "metadata": {},
     "output_type": "execute_result"
    }
   ],
   "source": [
    "### Date and time \n",
    "\n",
    "import datetime as dt \n",
    "import time as tm \n",
    "\n",
    "now = dt.datetime.fromtimestamp(tm.time())\n",
    "now.year"
   ]
  },
  {
   "cell_type": "code",
   "execution_count": null,
   "id": "0edd3f6e-6068-4631-9ffe-080b14dfeac0",
   "metadata": {},
   "outputs": [],
   "source": []
  },
  {
   "cell_type": "code",
   "execution_count": null,
   "id": "d0eb3921-6a2d-4003-a769-56441dbd0ac8",
   "metadata": {},
   "outputs": [],
   "source": []
  },
  {
   "cell_type": "code",
   "execution_count": null,
   "id": "61ff8053-d01c-4d1a-9ef7-c92b5e5a4d68",
   "metadata": {},
   "outputs": [],
   "source": []
  },
  {
   "cell_type": "code",
   "execution_count": null,
   "id": "dacc842e-d496-4852-b43d-de1cd27d8074",
   "metadata": {},
   "outputs": [],
   "source": []
  },
  {
   "cell_type": "code",
   "execution_count": null,
   "id": "510b1dd6-8336-4d01-ac4c-750be016e7eb",
   "metadata": {},
   "outputs": [],
   "source": []
  },
  {
   "cell_type": "code",
   "execution_count": null,
   "id": "07c7e995-ffd0-4ab0-8a79-5430eb74eb3c",
   "metadata": {},
   "outputs": [],
   "source": [
    "\n"
   ]
  },
  {
   "cell_type": "code",
   "execution_count": null,
   "id": "c874cb33-8a4c-4b52-89d3-a8c9f7fd764e",
   "metadata": {},
   "outputs": [],
   "source": []
  },
  {
   "cell_type": "code",
   "execution_count": null,
   "id": "9103986b-e090-400a-93f0-3f5fb8c28431",
   "metadata": {},
   "outputs": [],
   "source": []
  }
 ],
 "metadata": {
  "kernelspec": {
   "display_name": "Python 3 (ipykernel)",
   "language": "python",
   "name": "python3"
  },
  "language_info": {
   "codemirror_mode": {
    "name": "ipython",
    "version": 3
   },
   "file_extension": ".py",
   "mimetype": "text/x-python",
   "name": "python",
   "nbconvert_exporter": "python",
   "pygments_lexer": "ipython3",
   "version": "3.9.19"
  }
 },
 "nbformat": 4,
 "nbformat_minor": 5
}
