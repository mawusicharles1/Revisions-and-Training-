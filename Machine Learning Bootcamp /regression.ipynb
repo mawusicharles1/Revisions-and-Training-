{
 "cells": [
  {
   "cell_type": "code",
   "execution_count": null,
   "id": "dd0f1792-3ad4-41bd-8661-45c6d0337f8d",
   "metadata": {},
   "outputs": [],
   "source": [
    "## Regression analysis with ML \n",
    "import numpy as np \n",
    "import pandas as pd \n",
    "\n",
    "data = pd.read_csv(\"\")"
   ]
  }
 ],
 "metadata": {
  "kernelspec": {
   "display_name": "Python 3 (ipykernel)",
   "language": "python",
   "name": "python3"
  },
  "language_info": {
   "codemirror_mode": {
    "name": "ipython",
    "version": 3
   },
   "file_extension": ".py",
   "mimetype": "text/x-python",
   "name": "python",
   "nbconvert_exporter": "python",
   "pygments_lexer": "ipython3",
   "version": "3.9.19"
  }
 },
 "nbformat": 4,
 "nbformat_minor": 5
}
