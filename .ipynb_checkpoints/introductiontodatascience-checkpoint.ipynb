{
 "cells": [
  {
   "cell_type": "markdown",
   "id": "abae0f1e-bc41-4d7c-b9f3-a5af8e2d2a4b",
   "metadata": {},
   "source": [
    "# Introduction to Applied Data Science in Python-Revision\n",
    "\n",
    "\n",
    "### By Charles Mawusi "
   ]
  },
  {
   "cell_type": "code",
   "execution_count": 12,
   "id": "3e4c9657-e2af-4599-af4e-baf0281b7c0a",
   "metadata": {},
   "outputs": [
    {
     "name": "stdout",
     "output_type": "stream",
     "text": [
      "The sum of all numbers is: 13\n"
     ]
    }
   ],
   "source": [
    "def add_number (x, y, z ):\n",
    "    return x+y+z \n",
    "print(\"The sum of all numbers is:\",  add_number(3, 4, 6 ))"
   ]
  },
  {
   "cell_type": "code",
   "execution_count": 19,
   "id": "b01691da-ffc2-4f70-904b-25cde2ec4552",
   "metadata": {},
   "outputs": [
    {
     "name": "stdout",
     "output_type": "stream",
     "text": [
      "34\n"
     ]
    }
   ],
   "source": [
    "def add(x, y, z=None):\n",
    "    if (x >=20):\n",
    "        return x+y\n",
    "    else :\n",
    "        return x+z\n",
    "\n",
    "print(add(30, 4, 5) )"
   ]
  },
  {
   "cell_type": "code",
   "execution_count": 29,
   "id": "bf8eb365-d0b2-4ec8-a5d6-d5b2b0575a4b",
   "metadata": {},
   "outputs": [
    {
     "name": "stdout",
     "output_type": "stream",
     "text": [
      "\n"
     ]
    }
   ],
   "source": [
    "name = \" Charles Famouws Kwadjo\"\n",
    "first_name =name.split(\" \")[0]\n",
    "\n",
    "print(first_name)"
   ]
  },
  {
   "cell_type": "code",
   "execution_count": null,
   "id": "439c4115-a2e8-4990-88fb-98266aeafa3e",
   "metadata": {},
   "outputs": [],
   "source": []
  },
  {
   "cell_type": "code",
   "execution_count": null,
   "id": "9103986b-e090-400a-93f0-3f5fb8c28431",
   "metadata": {},
   "outputs": [],
   "source": []
  }
 ],
 "metadata": {
  "kernelspec": {
   "display_name": "Python 3 (ipykernel)",
   "language": "python",
   "name": "python3"
  },
  "language_info": {
   "codemirror_mode": {
    "name": "ipython",
    "version": 3
   },
   "file_extension": ".py",
   "mimetype": "text/x-python",
   "name": "python",
   "nbconvert_exporter": "python",
   "pygments_lexer": "ipython3",
   "version": "3.9.19"
  }
 },
 "nbformat": 4,
 "nbformat_minor": 5
}
